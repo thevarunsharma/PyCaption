{
 "cells": [
  {
   "cell_type": "code",
   "execution_count": 1,
   "metadata": {},
   "outputs": [
    {
     "name": "stderr",
     "output_type": "stream",
     "text": [
      "/home/beast/.local/lib/python3.6/site-packages/tensorflow/python/ops/gradients_impl.py:112: UserWarning: Converting sparse IndexedSlices to a dense Tensor of unknown shape. This may consume a large amount of memory.\n",
      "  \"Converting sparse IndexedSlices to a dense Tensor of unknown shape. \"\n"
     ]
    },
    {
     "name": "stdout",
     "output_type": "stream",
     "text": [
      "INFO:tensorflow:Restoring parameters from ./model_dat/weights\n"
     ]
    }
   ],
   "source": [
    "import requests\n",
    "import json\n",
    "import shutil\n",
    "from time import sleep\n",
    "import re\n",
    "import mlcode"
   ]
  },
  {
   "cell_type": "code",
   "execution_count": 19,
   "metadata": {},
   "outputs": [],
   "source": [
    "token = \"742399582:AAHY_IvizrRsmjAnLkv_bCcxtm8kHbaYl2g\"\n",
    "baseurl = \"https://api.telegram.org/bot{}/\".format(token)"
   ]
  },
  {
   "cell_type": "code",
   "execution_count": 3,
   "metadata": {},
   "outputs": [],
   "source": [
    "def get_updates(offset = None):\n",
    "    while True:\n",
    "        url = baseurl + 'getUpdates'\n",
    "        if offset:\n",
    "            url += '?offset={}'.format(offset) \n",
    "        res = requests.get(url)\n",
    "        while (res.status_code !=200 or len(res.json()['result'])== 0):\n",
    "            sleep(1)\n",
    "            res = requests.get(url)\n",
    "        print(res.url)\n",
    "        return res.json()"
   ]
  },
  {
   "cell_type": "code",
   "execution_count": 4,
   "metadata": {},
   "outputs": [],
   "source": [
    "def last_update_id(res):\n",
    "    return res['result'][-1]['update_id']"
   ]
  },
  {
   "cell_type": "code",
   "execution_count": 5,
   "metadata": {},
   "outputs": [],
   "source": [
    "def get_start_chats(updates):\n",
    "    start_chats = []\n",
    "    for i in updates['result']:\n",
    "        if 'text' in i['message'] and re.search(\"start\",i['message']['text'].lower()):\n",
    "            start_chats.append(i['message']['chat']['id'])\n",
    "    return start_chats"
   ]
  },
  {
   "cell_type": "code",
   "execution_count": 6,
   "metadata": {},
   "outputs": [],
   "source": [
    "def get_photo_chats(updates):\n",
    "    photo_chats = []\n",
    "    for i in updates['result']:\n",
    "        if 'photo' in i['message']:\n",
    "            photo_chats.append((i['message']['chat']['id'],\n",
    "                               i['message']['photo'][-1]['file_id']))\n",
    "    return photo_chats"
   ]
  },
  {
   "cell_type": "code",
   "execution_count": 18,
   "metadata": {},
   "outputs": [],
   "source": [
    "def send_start_msg(chats):\n",
    "    url = baseurl + 'sendMessage'\n",
    "    text = \"\"\"Hey, Welcome to the Image Captioning Center!\n",
    "I am PyCaption Bot and I will help you decide a caption for your images.\n",
    "Send me an image and I will suggest a caption for it\"\"\"\n",
    "    for cid in chats:\n",
    "        msg = requests.get(url, params={'chat_id':cid, 'text':text})\n",
    "        while msg.status_code!=200:\n",
    "            sleep(1)\n",
    "            msg = requests.get(url, params={'chat_id':cid, 'text':text})\n",
    "    return 'ok'"
   ]
  },
  {
   "cell_type": "code",
   "execution_count": 8,
   "metadata": {},
   "outputs": [],
   "source": [
    "def get_save_file(file_id):\n",
    "    fileurl = baseurl + 'getFile'\n",
    "    dwnurl = 'https://api.telegram.org/file/bot{}/'.format(token)\n",
    "    \n",
    "    fl = requests.get(fileurl, params={'file_id':file_id})\n",
    "    path = fl.json()['result']['file_path']\n",
    "    dwn = requests.get(dwnurl+\"{}\".format(path))\n",
    "    while dwn.status_code!=200:\n",
    "        sleep(1)\n",
    "        fl = requests.get(fileurl, params={'file_id':file_id})\n",
    "        path = fl.json()['result']['file_path']\n",
    "        dwn = requests.get(dwnurl+\"{}\".format(path))\n",
    "        \n",
    "    with open(\"./images/\"+file_id+\".jpg\", 'wb') as img:\n",
    "            for chunk in dwn: img.write(chunk)\n",
    "                "
   ]
  },
  {
   "cell_type": "code",
   "execution_count": 21,
   "metadata": {},
   "outputs": [],
   "source": [
    "def send_photo_reply(photo_chats):\n",
    "    sendurl = baseurl + 'sendMessage'\n",
    "    for (chat_id, file_id) in photo_chats:\n",
    "        msg = \"Image recieved!\\nThinking of a caption...\"\n",
    "        send = requests.get(sendurl, params={'chat_id':chat_id, 'text':msg})\n",
    "        while send.status_code!=200:\n",
    "            send = requests.get(sendurl, params={'chat_id':chat_id, 'text':msg})\n",
    "        get_save_file(file_id)\n",
    "    \n",
    "    for (chat_id, file_id) in photo_chats:\n",
    "        fname = \"./images/{}.jpg\".format(file_id)\n",
    "        caption = mlcode.apply_model_to_image(fname).capitalize()\n",
    "        send = requests.get(sendurl, params={'chat_id':chat_id, \n",
    "                                        'text':\"Here's the best caption I can come up with\"})\n",
    "        while send.status_code!=200:\n",
    "            send = requests.get(sendurl, params={'chat_id':chat_id, \n",
    "                                        'text':\"Here's the best caption I can come up with\"})\n",
    "        \n",
    "        send = requests.get(sendurl, params={'chat_id':chat_id, \n",
    "                                        'text':'\"\"\"\\n{}\\n\"\"\"'.format(caption)})\n",
    "        while send.status_code!=200:\n",
    "            send = requests.get(sendurl, params={'chat_id':chat_id, \n",
    "                                        'text':'\"\"\"\\n{}\\n\"\"\"'.format(caption)})\n",
    "\n",
    "    return 'ok'"
   ]
  },
  {
   "cell_type": "code",
   "execution_count": 16,
   "metadata": {},
   "outputs": [],
   "source": [
    "def run():\n",
    "    offset = None\n",
    "    while True:\n",
    "        try:\n",
    "            updates = get_updates(offset)\n",
    "            offset = last_update_id(updates)+1\n",
    "            start_chats = get_start_chats(updates)\n",
    "            send_start_msg(start_chats)\n",
    "            photo_chats = get_photo_chats(updates)\n",
    "            send_photo_reply(photo_chats)\n",
    "        except KeyboardInterrupt:\n",
    "            break"
   ]
  },
  {
   "cell_type": "code",
   "execution_count": 23,
   "metadata": {},
   "outputs": [
    {
     "name": "stdout",
     "output_type": "stream",
     "text": [
      "https://api.telegram.org/bot742399582:AAHY_IvizrRsmjAnLkv_bCcxtm8kHbaYl2g/getUpdates\n",
      "https://api.telegram.org/bot742399582:AAHY_IvizrRsmjAnLkv_bCcxtm8kHbaYl2g/getUpdates?offset=288087592\n"
     ]
    }
   ],
   "source": [
    "run()"
   ]
  },
  {
   "cell_type": "code",
   "execution_count": null,
   "metadata": {},
   "outputs": [],
   "source": []
  }
 ],
 "metadata": {
  "kernelspec": {
   "display_name": "Python 3",
   "language": "python",
   "name": "python3"
  },
  "language_info": {
   "codemirror_mode": {
    "name": "ipython",
    "version": 3
   },
   "file_extension": ".py",
   "mimetype": "text/x-python",
   "name": "python",
   "nbconvert_exporter": "python",
   "pygments_lexer": "ipython3",
   "version": "3.6.6"
  }
 },
 "nbformat": 4,
 "nbformat_minor": 2
}
